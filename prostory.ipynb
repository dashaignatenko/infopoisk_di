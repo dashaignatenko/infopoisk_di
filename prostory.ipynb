{
 "cells": [
  {
   "cell_type": "code",
   "execution_count": 1,
   "metadata": {
    "collapsed": true
   },
   "outputs": [],
   "source": [
    "import requests\n",
    "from bs4 import BeautifulSoup\n",
    "from IPython.display import HTML, display\n",
    "import re\n",
    "import html"
   ]
  },
  {
   "cell_type": "markdown",
   "metadata": {},
   "source": [
    "Код собирает ссылки на все выпуски из архива"
   ]
  },
  {
   "cell_type": "code",
   "execution_count": 3,
   "metadata": {
    "collapsed": false
   },
   "outputs": [],
   "source": [
    "arch = []\n",
    "for page in range(1,24):\n",
    "    reqlink = 'http://sprostor.ru/?module=arhiveis&action=list&id=0&page=' + str(page)\n",
    "    req = requests.get(reqlink)\n",
    "    soup = BeautifulSoup(re.sub('&amp;', '&', req.text, flags=re.DOTALL), 'lxml')\n",
    "    for i in soup.findAll('div', attrs = {'class':'archiveis_item'}):\n",
    "        href = re.sub('amp;', '', re.findall('<a href=\\\"([^\\\"]*)\\\">№', str(i), flags=re.DOTALL)[0])\n",
    "        arch.append('http://sprostor.ru/' + href)"
   ]
  },
  {
   "cell_type": "markdown",
   "metadata": {},
   "source": [
    "Собирает ссылки на статьи"
   ]
  },
  {
   "cell_type": "code",
   "execution_count": 4,
   "metadata": {
    "collapsed": false
   },
   "outputs": [],
   "source": [
    "articles = []\n",
    "for a in arch:\n",
    "    page = re.sub('&amp;', '&', requests.get(a).text, flags=re.DOTALL)\n",
    "    articles += re.findall('<a href=\\'([^\\']*)\\' class=\\'link_intro\\'>', page, flags=re.DOTALL)"
   ]
  },
  {
   "cell_type": "code",
   "execution_count": 15,
   "metadata": {
    "collapsed": true
   },
   "outputs": [],
   "source": [
    "articles = list(set(articles))"
   ]
  },
  {
   "cell_type": "markdown",
   "metadata": {},
   "source": [
    "Выкачивает статьи и записывает в файлы"
   ]
  },
  {
   "cell_type": "code",
   "execution_count": 59,
   "metadata": {
    "collapsed": false
   },
   "outputs": [
    {
     "name": "stdout",
     "output_type": "stream",
     "text": [
      "http://sprostor.ru/?module=articles&action=view&id=3174\n"
     ]
    }
   ],
   "source": [
    "cnt = 0\n",
    "for a in articles:\n",
    "    cnt += 1\n",
    "    NAME = str(cnt) + '.txt'\n",
    "    url = 'http://sprostor.ru/' + a\n",
    "    page = html.unescape(requests.get(url).text)\n",
    "    try:\n",
    "        meta = re.findall('<meta name=\\\"keywords\" content=\\\"([^\\\"]*)\\\".*?class=\\'date_start\\'>([^\\<]*)</span>', page, flags=re.DOTALL)[0]\n",
    "    #@ti @da @au\n",
    "        au = re.findall('<strong>([^\\<]*)</strong></p></span><span class=\\'author\\'>', page, flags=re.DOTALL)\n",
    "        if au == []:\n",
    "            aut = 'Noname'\n",
    "        else:\n",
    "            aut = au[0]\n",
    "        page = re.sub('</?strong>','', page, flags=re.DOTALL)\n",
    "        page = re.sub('</p>','\\n', page, flags=re.DOTALL)\n",
    "        page = re.sub('<p>','', page, flags=re.DOTALL)\n",
    "        page = re.sub('</?em>','', page, flags=re.DOTALL)\n",
    "        tekst = re.sub('<.*?>','', re.findall('<span class=\\'text\\'>(.*?)</span><span class=\\'author\\'>', page, flags=re.DOTALL)[0], flags=re.DOTALL)\n",
    "        date = '.'.join(meta[1].split('-')[::-1])\n",
    "        file = '@ti ' + meta[0] + '\\n@da ' + date + '\\n@au ' + aut + '\\n@url ' + url + '\\n' + tekst\n",
    "        f = open(NAME, 'w', encoding='utf-8')\n",
    "        f.write(file)\n",
    "        f.close()\n",
    "    except:\n",
    "        print(url)"
   ]
  },
  {
   "cell_type": "code",
   "execution_count": null,
   "metadata": {
    "collapsed": true
   },
   "outputs": [],
   "source": []
  },
  {
   "cell_type": "code",
   "execution_count": null,
   "metadata": {
    "collapsed": true
   },
   "outputs": [],
   "source": []
  }
 ],
 "metadata": {
  "kernelspec": {
   "display_name": "Python 3",
   "language": "python",
   "name": "python3"
  },
  "language_info": {
   "codemirror_mode": {
    "name": "ipython",
    "version": 3
   },
   "file_extension": ".py",
   "mimetype": "text/x-python",
   "name": "python",
   "nbconvert_exporter": "python",
   "pygments_lexer": "ipython3",
   "version": "3.4.2"
  }
 },
 "nbformat": 4,
 "nbformat_minor": 0
}
