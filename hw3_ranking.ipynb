{
 "cells": [
  {
   "cell_type": "code",
   "execution_count": 1,
   "metadata": {
    "collapsed": true
   },
   "outputs": [],
   "source": [
    "import pymorphy2\n",
    "import os\n",
    "from pymystem3 import Mystem  \n",
    "m = Mystem() \n",
    "import re\n",
    "from math import log\n",
    "import operator"
   ]
  },
  {
   "cell_type": "markdown",
   "metadata": {},
   "source": [
    "Обратные индексы"
   ]
  },
  {
   "cell_type": "code",
   "execution_count": 2,
   "metadata": {
    "collapsed": true
   },
   "outputs": [],
   "source": [
    "stopw = ['a', 'about', 'all', 'am', 'an', 'and', 'any', 'are', 'as', 'at', 'be', 'been', 'but', 'by', 'can', 'could', 'do', 'for', 'from', 'has', 'have', 'i', 'if', 'in', 'is', 'it', 'me', 'my', 'no', 'not', 'of', 'on', 'one', 'or', 'so', 'that', 'the', 'them', 'there', 'they', 'this', 'to', 'was', 'we', 'what', 'which', 'will', 'with', 'would', 'you', 'а', 'будем', 'будет', 'будете', 'будешь', 'буду', 'будут', 'будучи', 'будь', 'будьте', 'бы', 'был', 'была', 'были', 'было', 'быть', 'в', 'вам', 'вами', 'вас', 'весь', 'во', 'вот', 'все', 'всё', 'всего', 'всей', 'всем', 'всём', 'всеми', 'всему', 'всех', 'всею', 'всея', 'всю', 'вся', 'вы', 'да', 'для', 'до', 'его', 'едим', 'едят', 'ее', 'её', 'ей', 'ел', 'ела', 'ем', 'ему', 'емъ', 'если', 'ест', 'есть', 'ешь', 'еще', 'ещё', 'ею', 'же', 'за', 'и', 'из', 'или', 'им', 'ими', 'имъ', 'их', 'к', 'как', 'кем', 'ко', 'когда', 'кого', 'ком', 'кому', 'комья', 'которая', 'которого', 'которое', 'которой', 'котором', 'которому', 'которою', 'которую', 'которые', 'который', 'которым', 'которыми', 'которых', 'кто', 'меня', 'мне', 'мной', 'мною', 'мог', 'моги', 'могите', 'могла', 'могли', 'могло', 'могу', 'могут', 'мое', 'моё', 'моего', 'моей', 'моем', 'моём', 'моему', 'моею', 'можем', 'может', 'можете', 'можешь', 'мои', 'мой', 'моим', 'моими', 'моих', 'мочь', 'мою', 'моя', 'мы', 'на', 'нам', 'нами', 'нас', 'наса', 'наш', 'наша', 'наше', 'нашего', 'нашей', 'нашем', 'нашему', 'нашею', 'наши', 'нашим', 'нашими', 'наших', 'нашу', 'не', 'него', 'нее', 'неё', 'ней', 'нем', 'нём', 'нему', 'нет', 'нею', 'ним', 'ними', 'них', 'но', 'о', 'об', 'один', 'одна', 'одни', 'одним', 'одними', 'одних', 'одно', 'одного', 'одной', 'одном', 'одному', 'одною', 'одну', 'он', 'она', 'оне', 'они', 'оно', 'от', 'по', 'при', 'с', 'сам', 'сама', 'сами', 'самим', 'самими', 'самих', 'само', 'самого', 'самом', 'самому', 'саму', 'свое', 'своё', 'своего', 'своей', 'своем', 'своём', 'своему', 'своею', 'свои', 'свой', 'своим', 'своими', 'своих', 'свою', 'своя', 'себе', 'себя', 'собой', 'собою', 'та', 'так', 'такая', 'такие', 'таким', 'такими', 'таких', 'такого', 'такое', 'такой', 'таком', 'такому', 'такою', 'такую', 'те', 'тебе', 'тебя', 'тем', 'теми', 'тех', 'то', 'тобой', 'тобою', 'того', 'той', 'только', 'том', 'томах', 'тому', 'тот', 'тою', 'ту', 'ты', 'у', 'уже', 'чего', 'чем', 'чём', 'чему', 'что', 'чтобы', 'эта', 'эти', 'этим', 'этими', 'этих', 'это', 'этого', 'этой', 'этом', 'этому', 'этот', 'этою', 'эту', 'я', 'мені', 'наші', 'нашої', 'нашій', 'нашою', 'нашім', 'ті', 'тієї', 'тією', 'тії', 'теє']"
   ]
  },
  {
   "cell_type": "code",
   "execution_count": 3,
   "metadata": {
    "collapsed": true
   },
   "outputs": [],
   "source": [
    "def indices():\n",
    "    d = {}\n",
    "    for root, dirs, files in os.walk('.'):\n",
    "        for file in files:\n",
    "            if file.endswith('.txt'):\n",
    "                f = open(file, 'r', encoding='utf-8')\n",
    "                lemmas = m.lemmatize(f.read())\n",
    "               # for i in set(lemmas):\n",
    "                for i in lemmas:\n",
    "                    if i not in stopw:\n",
    "                        if i not in d:\n",
    "                            d[i] = [file]\n",
    "                        else:\n",
    "                            d[i].append(file)\n",
    "                f.close()\n",
    "    return(d)"
   ]
  },
  {
   "cell_type": "code",
   "execution_count": 4,
   "metadata": {
    "collapsed": true
   },
   "outputs": [],
   "source": [
    "d = indices()"
   ]
  },
  {
   "cell_type": "markdown",
   "metadata": {},
   "source": [
    "Ранжирование"
   ]
  },
  {
   "cell_type": "code",
   "execution_count": 5,
   "metadata": {
    "collapsed": true
   },
   "outputs": [],
   "source": [
    "l = []\n",
    "for root, dirs, files in os.walk('.'):\n",
    "    for file in files:\n",
    "        if file.endswith('.txt'):\n",
    "            f = open(file, 'r', encoding='utf-8')\n",
    "            l.append(len(f.read().split()))\n",
    "            f.close()\n",
    "avdl = sum(l) / float(len(l))"
   ]
  },
  {
   "cell_type": "code",
   "execution_count": 6,
   "metadata": {
    "collapsed": false
   },
   "outputs": [
    {
     "data": {
      "text/plain": [
       "470.21169590643274"
      ]
     },
     "execution_count": 6,
     "metadata": {},
     "output_type": "execute_result"
    }
   ],
   "source": [
    "N = 1710\n",
    "avdl"
   ]
  },
  {
   "cell_type": "code",
   "execution_count": 7,
   "metadata": {
    "collapsed": true
   },
   "outputs": [],
   "source": [
    "def compute_K(dl, avdl, k1, b): \n",
    "    return k1 * ((1-b) + b * (float(dl)/float(avdl)))\n",
    "\n",
    "def score_BM25(n, fq, dl, avdl, N=1710): \n",
    "    \"\"\" \n",
    "    Okapi BM25 score \n",
    "    :param n: quantity of documents with word q \n",
    "    :param fq: frequency of word q in document D \n",
    "    :param N: size of corpus in documents \n",
    "    :param dl: length of document D \n",
    "    :param avdl: average length of document in corpus \n",
    "    :return: relevancy score \n",
    "    \"\"\" \n",
    "    k1 = 2.0 \n",
    "    b = 0.75 \n",
    "    K = compute_K(dl, avdl, k1, b) \n",
    "    IDF = log((N - n + 0.5) / (n + 0.5)) \n",
    "    frac = ((k1 + 1) * fq) / (K + fq) \n",
    "    return IDF * frac "
   ]
  },
  {
   "cell_type": "code",
   "execution_count": 8,
   "metadata": {
    "collapsed": true
   },
   "outputs": [],
   "source": [
    "#okapi score для одного слова\n",
    "def query(word):\n",
    "    if word not in d:\n",
    "        return #??\n",
    "    else:\n",
    "        scores = {}\n",
    "        n = len(set(d[word]))\n",
    "        for i in set(d[word]):\n",
    "            doc = open(i, 'r', encoding='utf-8')\n",
    "            dl = len(doc.read().split())\n",
    "            fq = d[word].count(i)/dl\n",
    "            scores[i] = score_BM25(n, fq, dl, avdl)\n",
    "            doc.close()\n",
    "    return scores"
   ]
  },
  {
   "cell_type": "code",
   "execution_count": 23,
   "metadata": {
    "collapsed": false
   },
   "outputs": [],
   "source": [
    "#okapi для запроса любой длины\n",
    "def mult_query(inpt):\n",
    "    outp = {}\n",
    "    inpt = re.sub('[,.:;!?]', '', inpt)\n",
    "    for i in inpt.split():\n",
    "        qi = query(i)\n",
    "        for j in qi:\n",
    "            if j in outp:\n",
    "                outp[j] += qi[j]\n",
    "            else:\n",
    "                outp[j] = qi[j]\n",
    "    return sorted(outp.items(), key=operator.itemgetter(1))"
   ]
  },
  {
   "cell_type": "code",
   "execution_count": 27,
   "metadata": {
    "collapsed": true
   },
   "outputs": [],
   "source": [
    "#чтобы норм выдача была со ссылками\n",
    "def search(query):\n",
    "    outp = []\n",
    "    mq = mult_query(query)[-10:]\n",
    "    for i in mq:\n",
    "        url = re.findall('@url([^\\n]*)\\n', open(i[0], 'r', encoding='utf-8').read())\n",
    "        o = (url[0], i[1])\n",
    "        outp.append(o)\n",
    "    return outp[::-1]"
   ]
  },
  {
   "cell_type": "code",
   "execution_count": 28,
   "metadata": {
    "collapsed": false
   },
   "outputs": [
    {
     "data": {
      "text/plain": [
       "[(' http://sprostor.ru/?module=articles&action=view&id=1690',\n",
       "  0.21866284768765598),\n",
       " (' http://sprostor.ru/?module=articles&action=view&id=3419',\n",
       "  0.12376828916239176),\n",
       " (' http://sprostor.ru/?module=articles&action=view&id=3546',\n",
       "  0.12234109023965273),\n",
       " (' http://sprostor.ru/?module=articles&action=view&id=2121',\n",
       "  0.09610643293720406),\n",
       " (' http://sprostor.ru/?module=articles&action=view&id=2786',\n",
       "  0.052483123859339786),\n",
       " (' http://sprostor.ru/?module=articles&action=view&id=2769',\n",
       "  0.048956349262272304),\n",
       " (' http://sprostor.ru/?module=articles&action=view&id=2083',\n",
       "  0.03494561333455138),\n",
       " (' http://sprostor.ru/?module=articles&action=view&id=3669',\n",
       "  0.029509566105383758),\n",
       " (' http://sprostor.ru/?module=articles&action=view&id=3000',\n",
       "  0.02729640653119566),\n",
       " (' http://sprostor.ru/?module=articles&action=view&id=2216',\n",
       "  0.025783305073240708)]"
      ]
     },
     "execution_count": 28,
     "metadata": {},
     "output_type": "execute_result"
    }
   ],
   "source": [
    "search('кот, собака?')"
   ]
  },
  {
   "cell_type": "code",
   "execution_count": null,
   "metadata": {
    "collapsed": true
   },
   "outputs": [],
   "source": []
  }
 ],
 "metadata": {
  "kernelspec": {
   "display_name": "Python 3",
   "language": "python",
   "name": "python3"
  },
  "language_info": {
   "codemirror_mode": {
    "name": "ipython",
    "version": 3
   },
   "file_extension": ".py",
   "mimetype": "text/x-python",
   "name": "python",
   "nbconvert_exporter": "python",
   "pygments_lexer": "ipython3",
   "version": "3.4.2"
  }
 },
 "nbformat": 4,
 "nbformat_minor": 0
}
